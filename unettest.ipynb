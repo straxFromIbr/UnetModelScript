{
 "cells": [
  {
   "cell_type": "code",
   "execution_count": null,
   "id": "3e9899e3-c06b-4ec4-a6e9-e5ba034efe9b",
   "metadata": {},
   "outputs": [],
   "source": [
    "import datetime\n",
    "\n",
    "import tensorflow.keras as keras\n",
    "import matplotlib.pyplot as plt\n",
    "import numpy as np\n",
    "\n",
    "from model import unet\n",
    "import config\n",
    "import utils\n",
    "from dataset import mk_dataset\n"
   ]
  },
  {
   "cell_type": "code",
   "execution_count": null,
   "metadata": {},
   "outputs": [],
   "source": [
    "train_ds = mk_dataset.mk_dataset(\n",
    "    SAT_PATH=config.TR_SAT_PATH, MAP_PATH=config.TR_MAP_PATH\n",
    ")\n",
    "valid_ds = mk_dataset.mk_dataset(\n",
    "    SAT_PATH=config.VA_SAT_PATH, MAP_PATH=config.VA_MAP_PATH, batch_size=1\n",
    ")\n",
    "\n",
    "sample_inp, sample_tar = next(iter(valid_ds))\n"
   ]
  },
  {
   "cell_type": "code",
   "execution_count": null,
   "id": "9c663fd2-1174-4fe9-a6c5-3439af5d130f",
   "metadata": {},
   "outputs": [],
   "source": [
    "input_shape = (config.IMG_HEIGHT, config.IMG_WIDTH, config.IMG_CH)\n",
    "model = unet.big_unet_model(\n",
    "    input_shape=input_shape, output_channels=config.OUTPUT_CLASSES\n",
    ")\n",
    "\n",
    "model.compile(\n",
    "    optimizer=keras.optimizers.Adam(learning_rate=0.05),\n",
    "    loss=keras.losses.SparseCategoricalCrossentropy(from_logits=True),\n",
    "    metrics=[\"accuracy\"],\n",
    ")\n"
   ]
  },
  {
   "cell_type": "code",
   "execution_count": null,
   "metadata": {},
   "outputs": [],
   "source": [
    "model.summary()"
   ]
  },
  {
   "cell_type": "code",
   "execution_count": null,
   "metadata": {},
   "outputs": [],
   "source": [
    "disp_cb = utils.DisplayCallback(\n",
    "    model=model,\n",
    "    sample_inp=sample_inp[0],\n",
    "    sample_tar=sample_tar[0],\n",
    ")\n",
    "disp_cb.on_epoch_end(0, None)\n"
   ]
  },
  {
   "cell_type": "code",
   "execution_count": null,
   "metadata": {},
   "outputs": [],
   "source": [
    "for i,t in train_ds.take(1):\n",
    "    print(i.shape)\n",
    "    print(np.max(i))\n",
    "    print(np.min(i))\n",
    "    print(t.shape)\n",
    "    print(np.max(t))\n",
    "    print(np.min(t))\n",
    "    plt.imshow(i[0])\n",
    "    plt.show()\n",
    "    plt.imshow(t[0])\n",
    "    plt.show()"
   ]
  },
  {
   "cell_type": "code",
   "execution_count": null,
   "metadata": {},
   "outputs": [],
   "source": [
    "log_dir = \"logs/fit/\" + datetime.datetime.now().strftime(\"%Y%m%d-%H%M%S\")\n",
    "tensorboard_callback = keras.callbacks.TensorBoard(\n",
    "    log_dir=log_dir,\n",
    "    histogram_freq=1,\n",
    ")\n",
    "\n",
    "\n",
    "model_history = model.fit(\n",
    "    train_ds,\n",
    "    epochs=config.EPOCHS,\n",
    "    steps_per_epoch=config.STEPS_PER_EPOCH,\n",
    "    validation_steps=config.VALIDATION_STEPS,\n",
    "    validation_data=valid_ds,\n",
    "    callbacks=[disp_cb, tensorboard_callback],\n",
    ")\n"
   ]
  },
  {
   "cell_type": "code",
   "execution_count": null,
   "metadata": {},
   "outputs": [],
   "source": [
    "for i,t in valid_ds.take(2):\n",
    "    t_pred = model.predict(i)\n",
    "    plt.imshow(i[0])\n",
    "    plt.show()\n",
    "    plt.imshow(t[0])\n",
    "    plt.show()\n",
    "    pred_mask = utils.create_mask(t_pred)\n",
    "    plt.imshow(keras.preprocessing.image.array_to_img(pred_mask))\n",
    "    plt.show()\n",
    "\n",
    "t_pred = t_pred[0]"
   ]
  },
  {
   "cell_type": "code",
   "execution_count": null,
   "metadata": {},
   "outputs": [],
   "source": [
    "loss = model_history.history[\"loss\"]\n",
    "val_loss = model_history.history[\"val_loss\"]\n",
    "\n",
    "plt.figure()\n",
    "plt.plot(model_history.epoch, loss, \"r\", label=\"Training loss\")\n",
    "plt.plot(model_history.epoch, val_loss, \"bo\", label=\"Validation loss\")\n",
    "plt.title(\"Training and Validation Loss\")\n",
    "plt.xlabel(\"Epoch\")\n",
    "plt.ylabel(\"Loss Value\")\n",
    "plt.ylim([0, 1])\n",
    "plt.legend()\n",
    "plt.savefig('10282205.png')\n",
    "plt.show()"
   ]
  },
  {
   "cell_type": "code",
   "execution_count": null,
   "metadata": {},
   "outputs": [],
   "source": []
  }
 ],
 "metadata": {
  "interpreter": {
   "hash": "6f30c1aedcc158e6e85aa10894a7cc9894d5dc80bbbec0a0c9208a77c21f685c"
  },
  "kernelspec": {
   "display_name": "Python 3.8.10 64-bit ('apple': conda)",
   "name": "python3"
  },
  "language_info": {
   "codemirror_mode": {
    "name": "ipython",
    "version": 3
   },
   "file_extension": ".py",
   "mimetype": "text/x-python",
   "name": "python",
   "nbconvert_exporter": "python",
   "pygments_lexer": "ipython3",
   "version": "3.8.12"
  }
 },
 "nbformat": 4,
 "nbformat_minor": 5
}
