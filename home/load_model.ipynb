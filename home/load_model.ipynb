{
 "cells": [
  {
   "cell_type": "code",
   "execution_count": null,
   "metadata": {},
   "outputs": [],
   "source": [
    "import random\n",
    "\n",
    "import matplotlib.pyplot as plt\n",
    "import cv2\n",
    "\n",
    "import train\n",
    "import config\n",
    "from model import losses"
   ]
  },
  {
   "cell_type": "code",
   "execution_count": null,
   "metadata": {},
   "outputs": [],
   "source": [
    "loss = losses.TverskyLoss(name=\"Tversky\", alpha=0.7)\n",
    "model = train.compile_model(loss=loss)\n",
    "model.load_weights(\"/results/211126/checkpoints/cmTn3-a7-E200/cmTn3-a7-E200\")\n"
   ]
  },
  {
   "cell_type": "code",
   "execution_count": null,
   "metadata": {},
   "outputs": [],
   "source": [
    "basepath = config.VA_SAT_PATH\n",
    "path = random.sample(list(basepath.glob(\"*.png\")), 1)[0].name\n",
    "sat_im = cv2.imread(str(basepath / path))[:, :, ::-1] / 255.0\n",
    "map_im = cv2.imread(str(config.VA_MAP_PATH / path))[:,:,::-1]\n",
    "plt.imshow(sat_im)\n",
    "plt.show()\n",
    "pred = model.predict(sat_im[None])\n",
    "plt.imshow((pred[0][:, :, 0]))\n",
    "plt.show()\n",
    "plt.imshow((map_im))\n",
    "plt.show()\n",
    "plt.imshow(skeletonize(pred[0][:, :, 0]))\n",
    "plt.show()\n",
    "plt.imshow(skeletonize(map_im))\n",
    "plt.show()"
   ]
  },
  {
   "cell_type": "code",
   "execution_count": null,
   "metadata": {},
   "outputs": [],
   "source": [
    "from skimage.morphology import skeletonize"
   ]
  },
  {
   "cell_type": "code",
   "execution_count": null,
   "metadata": {},
   "outputs": [],
   "source": [
    "pred_im = pred[0][...,0]\n",
    "pred_im = skeletonize(pred_im)\n",
    "\n",
    "plt.imshow(pred[0][...,0])\n",
    "plt.show()\n",
    "plt.imshow(pred_im)\n",
    "plt.show()\n",
    "\n"
   ]
  },
  {
   "cell_type": "code",
   "execution_count": null,
   "metadata": {},
   "outputs": [],
   "source": [
    "for i, t in valid_ds.take(3):\n",
    "    i = i[0]\n",
    "    pred = model.predict(i[None])\n",
    "    plt.imshow(i)\n",
    "    plt.show()\n",
    "    plt.imshow(t[0])\n",
    "    plt.show()\n",
    "    plt.imshow(pred[0])\n",
    "    plt.show()\n"
   ]
  }
 ],
 "metadata": {
  "kernelspec": {
   "display_name": "Python 3",
   "language": "python",
   "name": "python3"
  },
  "language_info": {
   "codemirror_mode": {
    "name": "ipython",
    "version": 3
   },
   "file_extension": ".py",
   "mimetype": "text/x-python",
   "name": "python",
   "nbconvert_exporter": "python",
   "pygments_lexer": "ipython3",
   "version": "3.6.9"
  }
 },
 "nbformat": 4,
 "nbformat_minor": 4
}
