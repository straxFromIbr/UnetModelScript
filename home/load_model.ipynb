{
 "cells": [
  {
   "cell_type": "code",
   "execution_count": null,
   "metadata": {},
   "outputs": [],
   "source": [
    "import random\n",
    "\n",
    "import matplotlib.pyplot as plt\n",
    "import cv2\n",
    "\n",
    "import train\n",
    "import config\n",
    "from model import losses"
   ]
  },
  {
   "cell_type": "code",
   "execution_count": null,
   "metadata": {},
   "outputs": [],
   "source": [
    "pathlist = config.TR_MAP_PATH.glob(\"*.png\")\n",
    "pathlist = [path.name for path in pathlist]\n",
    "random.shuffle(pathlist)\n",
    "\n",
    "nb_tr = int(len(pathlist) * 0.8)\n",
    "nb_va = int(len(pathlist) * 0.2)\n",
    "tr_pathlist = pathlist[:nb_tr]\n",
    "va_pathlist = pathlist[nb_tr:]\n",
    "train_ds, valid_ds = train.make_datasets(\n",
    "    tr_path=tr_pathlist,\n",
    "    va_path=va_pathlist,\n",
    "    use_cumix=False,\n",
    ")"
   ]
  },
  {
   "cell_type": "code",
   "execution_count": null,
   "metadata": {},
   "outputs": [],
   "source": [
    "loss = losses.TverskyLoss(name=\"Tversky\", alpha=0.7)\n",
    "model = train.compile_model(loss=loss)\n",
    "model.load_weights(\"/results/211122/checkpoints/cmF-a7-E20/cmF-a7-E20\")\n"
   ]
  },
  {
   "cell_type": "code",
   "execution_count": null,
   "metadata": {},
   "outputs": [],
   "source": [
    "basepath = config.VA_SAT_PATH\n",
    "path = random.sample(list(basepath.glob(\"*.png\")), 1)[0].name\n",
    "sat_im = cv2.imread(str(basepath / path))[:, :, ::-1] / 255.0\n",
    "\n",
    "plt.imshow(sat_im)\n",
    "plt.show()\n",
    "pred = model.predict(sat_im[None])\n",
    "plt.imshow(pred[0][:, :, 0])\n",
    "plt.show()\n",
    "# plt.imshow(map_im)\n",
    "# plt.show()\n"
   ]
  },
  {
   "cell_type": "code",
   "execution_count": null,
   "metadata": {},
   "outputs": [],
   "source": [
    "for i, t in valid_ds.take(3):\n",
    "    i = i[0]\n",
    "    pred = model.predict(i[None])\n",
    "    plt.imshow(i)\n",
    "    plt.show()\n",
    "    plt.imshow(t[0])\n",
    "    plt.show()\n",
    "    plt.imshow(pred[0])\n",
    "    plt.show()\n"
   ]
  }
 ],
 "metadata": {
  "kernelspec": {
   "display_name": "Python 3",
   "language": "python",
   "name": "python3"
  },
  "language_info": {
   "codemirror_mode": {
    "name": "ipython",
    "version": 3
   },
   "file_extension": ".py",
   "mimetype": "text/x-python",
   "name": "python",
   "nbconvert_exporter": "python",
   "pygments_lexer": "ipython3",
   "version": "3.6.9"
  }
 },
 "nbformat": 4,
 "nbformat_minor": 4
}
