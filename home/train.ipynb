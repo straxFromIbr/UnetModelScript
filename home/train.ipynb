{
 "cells": [
  {
   "cell_type": "code",
   "execution_count": null,
   "id": "3e9899e3-c06b-4ec4-a6e9-e5ba034efe9b",
   "metadata": {},
   "outputs": [],
   "source": [
    "from datetime import datetime\n",
    "\n",
    "import tensorflow.keras as keras\n",
    "import matplotlib.pyplot as plt\n",
    "\n",
    "from model import unet, losses, metrics\n",
    "\n",
    "import config\n",
    "from utils import callbacks\n",
    "from dataset import mk_dataset\n"
   ]
  },
  {
   "cell_type": "code",
   "execution_count": null,
   "id": "cdbef91b",
   "metadata": {},
   "outputs": [],
   "source": [
    "# Define Dataset\n",
    "\n",
    "train_ds = mk_dataset.mk_dataset(\n",
    "    SAT_PATH=config.TR_SAT_PATH, MAP_PATH=config.TR_MAP_PATH\n",
    ")\n",
    "valid_ds = mk_dataset.mk_dataset(\n",
    "    SAT_PATH=config.VA_SAT_PATH, MAP_PATH=config.VA_MAP_PATH, batch_size=1\n",
    ")\n",
    "\n",
    "sample_inp, sample_tar = next(iter(valid_ds))\n"
   ]
  },
  {
   "cell_type": "code",
   "execution_count": null,
   "id": "9c663fd2-1174-4fe9-a6c5-3439af5d130f",
   "metadata": {},
   "outputs": [],
   "source": [
    "# Define Model\n",
    "\n",
    "input_shape = (config.IMG_HEIGHT, config.IMG_WIDTH, config.IMG_CH)\n",
    "model = unet.big_unet_model(input_shape=input_shape, output_channels=config.OUT_CH)\n",
    "\n",
    "# Compile the model\n",
    "optimizer = keras.optimizers.Adam()\n",
    "loss = losses.DICELoss(\"DICE\")\n",
    "metrics = [\"accuracy\", metrics.iou_coef]\n",
    "model.compile(optimizer=optimizer, loss=loss, metrics=metrics)\n"
   ]
  },
  {
   "cell_type": "code",
   "execution_count": null,
   "id": "55d817c0",
   "metadata": {},
   "outputs": [],
   "source": [
    "model.loss.name\n"
   ]
  },
  {
   "cell_type": "code",
   "execution_count": null,
   "id": "f96e6d6f",
   "metadata": {},
   "outputs": [],
   "source": [
    "# Show Model shape\n",
    "keras.utils.plot_model(model,show_dtype=True,show_shapes=True)"
   ]
  },
  {
   "cell_type": "code",
   "execution_count": null,
   "id": "3028d2d9",
   "metadata": {},
   "outputs": [],
   "source": [
    "# Define callbacks\n",
    "\n",
    "disp_cb = callbacks.DisplayCallback(\n",
    "    model=model,\n",
    "    sample_inp=sample_inp[0],\n",
    "    sample_tar=sample_tar[0],\n",
    ")\n",
    "disp_cb.on_epoch_end(0, None)\n",
    "\n",
    "filename = datetime.now().strftime(\"%Y%m%d%H%M_\") + loss.name\n",
    "\n",
    "tboard_cb = callbacks.get_tboard_callback(str(config.LOG_PATH / filename))\n",
    "checkpoint_cb = callbacks.get_checkpoint_callback(\n",
    "    str(config.CHECKPOINT_PATH / filename)\n",
    ")\n"
   ]
  },
  {
   "cell_type": "code",
   "execution_count": null,
   "id": "4b13a802",
   "metadata": {},
   "outputs": [],
   "source": [
    "NB_Epochs = 100\n",
    "model_history = model.fit(\n",
    "    train_ds,\n",
    "    epochs=NB_Epochs,\n",
    "    steps_per_epoch=config.STEPS_PER_EPOCH,\n",
    "    validation_steps=config.VALIDATION_STEPS,\n",
    "    validation_data=valid_ds,\n",
    "    callbacks=[disp_cb, tboard_cb, checkpoint_cb],\n",
    ")\n"
   ]
  },
  {
   "cell_type": "code",
   "execution_count": null,
   "id": "8e0dbd28",
   "metadata": {},
   "outputs": [],
   "source": [
    "for i, t in valid_ds.take(2):\n",
    "    t_pred = model.predict(i)\n",
    "    plt.imshow(i[0])\n",
    "    plt.show()\n",
    "    plt.imshow(t[0])\n",
    "    plt.show()\n",
    "    plt.imshow(t_pred[0][:, :, 0])\n",
    "    plt.show()\n"
   ]
  },
  {
   "cell_type": "code",
   "execution_count": null,
   "id": "c5cb48af",
   "metadata": {},
   "outputs": [],
   "source": [
    "loss = model_history.history[\"loss\"]\n",
    "# val_loss = model_history.history[\"val_loss\"]\n",
    "\n",
    "plt.figure()\n",
    "plt.plot(model_history.epoch, loss, \"r\", label=\"Training loss\")\n",
    "plt.plot(model_history.epoch, val_loss, \"bo\", label=\"Validation loss\")\n",
    "plt.title(\"Training and Validation Loss\")\n",
    "plt.xlabel(\"Epoch\")\n",
    "plt.ylabel(\"Loss Value\")\n",
    "plt.ylim([0, 1])\n",
    "plt.legend()\n",
    "plt.savefig(\"10282205.png\")\n",
    "plt.show()\n"
   ]
  },
  {
   "cell_type": "code",
   "execution_count": null,
   "id": "fdbb4ac1",
   "metadata": {},
   "outputs": [],
   "source": [
    "pred = model.predict(sample_inp)\n",
    "pred.shape"
   ]
  }
 ],
 "metadata": {
  "interpreter": {
   "hash": "6f30c1aedcc158e6e85aa10894a7cc9894d5dc80bbbec0a0c9208a77c21f685c"
  },
  "kernelspec": {
   "display_name": "Python 3",
   "language": "python",
   "name": "python3"
  },
  "language_info": {
   "codemirror_mode": {
    "name": "ipython",
    "version": 3
   },
   "file_extension": ".py",
   "mimetype": "text/x-python",
   "name": "python",
   "nbconvert_exporter": "python",
   "pygments_lexer": "ipython3",
   "version": "3.8.12"
  }
 },
 "nbformat": 4,
 "nbformat_minor": 5
}
