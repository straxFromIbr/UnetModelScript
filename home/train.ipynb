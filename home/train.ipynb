{
 "cells": [
  {
   "cell_type": "code",
   "execution_count": null,
   "id": "3e9899e3-c06b-4ec4-a6e9-e5ba034efe9b",
   "metadata": {},
   "outputs": [],
   "source": [
    "import tensorflow.keras as keras\n",
    "\n",
    "import config\n",
    "from model import unet, losses, metrics\n",
    "from utils import callbacks\n",
    "from dataset_utils import mk_dataset\n"
   ]
  },
  {
   "cell_type": "code",
   "execution_count": null,
   "id": "5aa6e3bf",
   "metadata": {},
   "outputs": [],
   "source": [
    "# Get Datasets\n",
    "def make_datasets():\n",
    "    train_ds = mk_dataset.mk_base_dataset(config.TR_SAT_PATH, config.TR_MAP_PATH)\n",
    "    train_ds = mk_dataset.augument_ds(train_ds)\n",
    "    train_ds = mk_dataset.post_process_ds(train_ds)\n",
    "    \n",
    "    valid_ds = mk_dataset.mk_base_dataset(config.VA_SAT_PATH, config.VA_MAP_PATH)\n",
    "    valid_ds = mk_dataset.post_process_ds(valid_ds)\n",
    "    return train_ds, valid_ds\n"
   ]
  },
  {
   "cell_type": "code",
   "execution_count": null,
   "id": "9c663fd2-1174-4fe9-a6c5-3439af5d130f",
   "metadata": {},
   "outputs": [],
   "source": [
    "# Define model\n",
    "def compile_model(loss):\n",
    "    model = unet.big_unet_model(\n",
    "        input_shape=config.INPUT_SIZE,\n",
    "        output_channels=config.OUT_CH,\n",
    "    )\n",
    "    # Compile the model\n",
    "    optimizer = keras.optimizers.Adam()\n",
    "    metric_list = [metrics.iou_coef]\n",
    "    model.compile(optimizer=optimizer, loss=loss, metrics=metric_list)\n",
    "    return model\n"
   ]
  },
  {
   "cell_type": "code",
   "execution_count": null,
   "id": "f96e6d6f",
   "metadata": {},
   "outputs": [],
   "source": [
    "# Define Callbacks\n",
    "def get_callbacks(filename):\n",
    "    tboard_cb = callbacks.get_tboard_callback(str(config.LOG_PATH / filename))\n",
    "    checkpoint_cb = callbacks.get_checkpoint_callback(\n",
    "        str(config.CHECKPOINT_PATH / filename / filename)\n",
    "    )\n",
    "    callback_list = [tboard_cb, checkpoint_cb]\n",
    "    return callback_list\n"
   ]
  },
  {
   "cell_type": "code",
   "execution_count": null,
   "id": "4b13a802",
   "metadata": {},
   "outputs": [],
   "source": [
    "def train(model: keras.Model, train_ds, valid_ds, NB_EPOCHS):\n",
    "    filename = model.loss.name\n",
    "    model_history = model.fit(\n",
    "        train_ds,\n",
    "        epochs=NB_EPOCHS,\n",
    "        validation_data=valid_ds,\n",
    "        steps_per_epoch=config.STEPS_PER_EPOCH,\n",
    "        validation_steps=5,\n",
    "        callbacks=get_callbacks(filename),\n",
    "    )\n",
    "    model.save(str(config.MODEL_SAVE_PATH / filename))\n",
    "    return model_history\n"
   ]
  },
  {
   "cell_type": "code",
   "execution_count": null,
   "id": "2a29a68f",
   "metadata": {},
   "outputs": [],
   "source": [
    "train_ds, valid_ds = make_datasets()\n",
    "\n",
    "loss = losses.TverskyLoss(name=\"Tversky\")\n",
    "model = compile_model(loss=loss)\n",
    "hist = train(\n",
    "    model=model,\n",
    "    train_ds=train_ds,\n",
    "    valid_ds=valid_ds,\n",
    "    NB_EPOCHS=30,\n",
    ")\n"
   ]
  },
  {
   "cell_type": "code",
   "execution_count": null,
   "id": "57e19568-db77-4e99-b34b-d765cc1f33f9",
   "metadata": {},
   "outputs": [],
   "source": [
    "import matplotlib.pyplot as plt\n",
    "\n",
    "for i,t in train_ds.take(3):\n",
    "    pred = model.predict(i)\n",
    "    # plt.imshow(i[0])\n",
    "    # plt.show()\n",
    "    plt.imshow(t[0])\n",
    "    plt.show()\n",
    "    plt.imshow(pred[0])\n",
    "    plt.show()\n"
   ]
  },
  {
   "cell_type": "code",
   "execution_count": null,
   "id": "9bdf7056-60a1-4817-bbbe-62a8456dc9d8",
   "metadata": {},
   "outputs": [],
   "source": [
    "from model import metrics\n"
   ]
  },
  {
   "cell_type": "code",
   "execution_count": null,
   "id": "dd4ed7df-f2f9-48e1-897d-0876c6698a87",
   "metadata": {},
   "outputs": [],
   "source": [
    "sample_inp, sample_tar = next(iter(valid_ds))\n",
    "\n",
    "y_true = sample_tar\n",
    "y_pred = model.predict(sample_inp)\n",
    "\n",
    "print(metrics.iou_coef(y_true[0][None], y_pred[0][None]))\n",
    "\n",
    "plt.imshow(sample_inp[0])\n",
    "plt.show()\n",
    "plt.imshow(y_true[0])\n",
    "plt.show()\n",
    "plt.imshow(y_pred[0])\n",
    "plt.show()"
   ]
  }
 ],
 "metadata": {
  "interpreter": {
   "hash": "6f30c1aedcc158e6e85aa10894a7cc9894d5dc80bbbec0a0c9208a77c21f685c"
  },
  "kernelspec": {
   "display_name": "Python 3",
   "language": "python",
   "name": "python3"
  },
  "language_info": {
   "codemirror_mode": {
    "name": "ipython",
    "version": 3
   },
   "file_extension": ".py",
   "mimetype": "text/x-python",
   "name": "python",
   "nbconvert_exporter": "python",
   "pygments_lexer": "ipython3",
   "version": "3.6.9"
  }
 },
 "nbformat": 4,
 "nbformat_minor": 5
}
