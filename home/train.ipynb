{
 "cells": [
  {
   "cell_type": "code",
   "execution_count": null,
   "id": "3e9899e3-c06b-4ec4-a6e9-e5ba034efe9b",
   "metadata": {},
   "outputs": [],
   "source": [
    "import random\n",
    "from typing import List\n",
    "import importlib\n",
    "\n",
    "import tensorflow.keras as keras\n",
    "import matplotlib.pyplot as plt\n",
    "\n",
    "import config\n",
    "from dataset_utils import mk_dataset\n",
    "from model import losses, unet\n",
    "from utils import callbacks"
   ]
  },
  {
   "cell_type": "code",
   "execution_count": null,
   "id": "5aa6e3bf",
   "metadata": {},
   "outputs": [],
   "source": [
    "# Get Datasets\n",
    "def make_datasets(\n",
    "    tr_path: List[str], va_path: List[str], use_cumix: bool, nbmix: int = 3\n",
    "):\n",
    "    \"\"\"\n",
    "    データセット作成。`use_cutmix`でCutmix適用を決める。\n",
    "    \"\"\"\n",
    "    train_ds = mk_dataset.mk_base_dataset(\n",
    "        path_list=tr_path, sat_path=config.TR_SAT_PATH, map_path=config.TR_MAP_PATH\n",
    "    )\n",
    "    if use_cumix:\n",
    "        train_ds = mk_dataset.augument_ds(train_ds, nbmix)\n",
    "    train_ds = mk_dataset.post_process_ds(train_ds)\n",
    "\n",
    "    valid_ds = mk_dataset.mk_base_dataset(\n",
    "        path_list=va_path, sat_path=config.TR_SAT_PATH, map_path=config.TR_MAP_PATH\n",
    "    )\n",
    "    valid_ds = mk_dataset.post_process_ds(valid_ds)\n",
    "    return train_ds, valid_ds\n"
   ]
  },
  {
   "cell_type": "code",
   "execution_count": null,
   "id": "9c663fd2-1174-4fe9-a6c5-3439af5d130f",
   "metadata": {},
   "outputs": [],
   "source": [
    "# Define model\n",
    "def compile_model(loss):\n",
    "    model = unet.big_unet_model(\n",
    "        input_shape=config.INPUT_SIZE,\n",
    "        output_channels=config.OUT_CH,\n",
    "    )\n",
    "    # Compile the model\n",
    "    optimizer = keras.optimizers.Adam()\n",
    "    metrics = [keras.metrics.MeanIoU(num_classes=2)]\n",
    "    model.compile(optimizer=optimizer, loss=loss, metrics=metrics)\n",
    "    return model\n"
   ]
  },
  {
   "cell_type": "code",
   "execution_count": null,
   "id": "f96e6d6f",
   "metadata": {},
   "outputs": [],
   "source": [
    "# Define Callbacks\n",
    "def get_callbacks(filename):\n",
    "    tboard_cb = callbacks.get_tboard_callback(str(config.LOG_PATH / filename))\n",
    "    checkpoint_cb = callbacks.get_checkpoint_callback(\n",
    "        str(config.CHECKPOINT_PATH / filename / filename)\n",
    "    )\n",
    "    callback_list = [tboard_cb, checkpoint_cb]\n",
    "    return callback_list\n"
   ]
  },
  {
   "cell_type": "code",
   "execution_count": null,
   "id": "2a29a68f",
   "metadata": {},
   "outputs": [],
   "source": [
    "pathlist = config.TR_MAP_PATH.glob(\"*.png\")\n",
    "pathlist = [path.name for path in pathlist]\n",
    "random.shuffle(pathlist)\n",
    "\n",
    "nb_tr = int(len(pathlist) * 0.8)\n",
    "nb_va = int(len(pathlist) * 0.2)\n",
    "tr_pathlist = pathlist[:nb_tr]\n",
    "va_pathlist = pathlist[nb_tr:]\n",
    "importlib.reload(mk_dataset)\n",
    "train_ds, valid_ds = make_datasets(\n",
    "    tr_path=tr_pathlist,\n",
    "    va_path=va_pathlist,\n",
    "    use_cumix=False,\n",
    ")\n",
    "# print(args.epochs)\n"
   ]
  },
  {
   "cell_type": "code",
   "execution_count": null,
   "id": "03d53df1",
   "metadata": {},
   "outputs": [],
   "source": [
    "loss = losses.TverskyLoss(name=\"Tversky\", alpha=0.7)\n",
    "model = compile_model(loss=loss)\n",
    "## 訓練\n",
    "filename = \"test1124\"\n",
    "model_history = model.fit(\n",
    "    train_ds,\n",
    "    epochs=20,\n",
    "    validation_data=valid_ds,\n",
    "    steps_per_epoch=config.STEPS_PER_EPOCH,\n",
    "    validation_steps=5,\n",
    "    callbacks=get_callbacks(filename),\n",
    ")\n"
   ]
  },
  {
   "cell_type": "code",
   "execution_count": null,
   "id": "718ca352-a888-4fd7-8685-e691a63a4004",
   "metadata": {},
   "outputs": [],
   "source": [
    "print(model_history.history.keys())\n",
    "tr_loss = model_history.history[\"loss\"]\n",
    "va_loss = model_history.history[\"val_loss\"]\n",
    "tr_iou = model_history.history[\"mean_io_u\"]\n",
    "va_iou = model_history.history[\"val_mean_io_u\"]\n",
    "\n",
    "plt.figure()\n",
    "plt.title(\"mean IoU\")\n",
    "plt.plot(tr_iou, \"r\")\n",
    "plt.plot(va_iou, \"bo\")\n",
    "plt.show()\n",
    "\n",
    "plt.title(\"loss\")\n",
    "plt.plot(tr_loss, \"r\")\n",
    "plt.plot(va_loss, \"bo\")\n",
    "plt.show()\n"
   ]
  },
  {
   "cell_type": "code",
   "execution_count": null,
   "id": "57e19568-db77-4e99-b34b-d765cc1f33f9",
   "metadata": {},
   "outputs": [],
   "source": [
    "for i,t in valid_ds.take(3):\n",
    "    pred = model.predict(i)\n",
    "    plt.imshow(i[0])\n",
    "    plt.show()\n",
    "    plt.imshow(t[0])\n",
    "    plt.show()\n",
    "    plt.imshow(pred[0])\n",
    "    plt.show()"
   ]
  }
 ],
 "metadata": {
  "interpreter": {
   "hash": "6f30c1aedcc158e6e85aa10894a7cc9894d5dc80bbbec0a0c9208a77c21f685c"
  },
  "kernelspec": {
   "display_name": "Python 3",
   "language": "python",
   "name": "python3"
  },
  "language_info": {
   "codemirror_mode": {
    "name": "ipython",
    "version": 3
   },
   "file_extension": ".py",
   "mimetype": "text/x-python",
   "name": "python",
   "nbconvert_exporter": "python",
   "pygments_lexer": "ipython3",
   "version": "3.6.9"
  }
 },
 "nbformat": 4,
 "nbformat_minor": 5
}
