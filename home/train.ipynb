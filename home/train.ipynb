{
  "cells": [
    {
      "cell_type": "markdown",
      "metadata": {
        "id": "view-in-github",
        "colab_type": "text"
      },
      "source": [
        "<a href=\"https://colab.research.google.com/github/straxFromIbr/UnetModelScript/blob/main/home/train.ipynb\" target=\"_parent\"><img src=\"https://colab.research.google.com/assets/colab-badge.svg\" alt=\"Open In Colab\"/></a>"
      ]
    },
    {
      "cell_type": "code",
      "source": [
        "!nvidia-smi"
      ],
      "metadata": {
        "id": "qAaCFggKe9lH",
        "outputId": "ad7a471d-0002-4836-8a9a-5904016bb958",
        "colab": {
          "base_uri": "https://localhost:8080/"
        }
      },
      "id": "qAaCFggKe9lH",
      "execution_count": 1,
      "outputs": [
        {
          "output_type": "stream",
          "name": "stdout",
          "text": [
            "NVIDIA-SMI has failed because it couldn't communicate with the NVIDIA driver. Make sure that the latest NVIDIA driver is installed and running.\n",
            "\n"
          ]
        }
      ]
    },
    {
      "cell_type": "code",
      "source": [
        "% cd /content\n",
        "from google.colab import drive\n",
        "drive.mount('/content/drive')\n",
        "! unzip /content/drive/MyDrive/卒研/mass_roads256.zip &>/dev/null\n",
        "! git clone --depth 1 https://github.com/straxFromIbr/UnetModelScript/\n",
        "% cd /content/UnetModelScript/home\n",
        "! pip install tensorflow-addons scikit-image &>/dev/null  "
      ],
      "metadata": {
        "id": "BhSQZS-ZHo60",
        "outputId": "736508ed-1606-42ed-9b9f-f8680a3efcf0",
        "colab": {
          "base_uri": "https://localhost:8080/"
        }
      },
      "id": "BhSQZS-ZHo60",
      "execution_count": 2,
      "outputs": [
        {
          "output_type": "stream",
          "name": "stdout",
          "text": [
            "/content\n",
            "Mounted at /content/drive\n",
            "Cloning into 'UnetModelScript'...\n",
            "remote: Enumerating objects: 28, done.\u001b[K\n",
            "remote: Counting objects: 100% (28/28), done.\u001b[K\n",
            "remote: Compressing objects: 100% (27/27), done.\u001b[K\n",
            "remote: Total 28 (delta 0), reused 11 (delta 0), pack-reused 0\u001b[K\n",
            "Unpacking objects: 100% (28/28), done.\n",
            "/content/UnetModelScript/home\n"
          ]
        }
      ]
    },
    {
      "cell_type": "code",
      "source": [
        "import random\n",
        "import math\n",
        "import pathlib\n",
        "\n",
        "import train\n",
        "from model import losses\n",
        "\n",
        "BATCH_SIZE = 64"
      ],
      "metadata": {
        "id": "YI3WsC-R_JTq"
      },
      "id": "YI3WsC-R_JTq",
      "execution_count": 3,
      "outputs": []
    },
    {
      "cell_type": "code",
      "source": [
        "random.seed(1)\n",
        "datadir = '/content/mass_roads256/train'\n",
        "suffix = 'png'\n",
        "pathlist = (pathlib.Path(datadir) / \"map\").glob(f\"*.{suffix}\")\n",
        "pathlist = list(pathlist)\n",
        "random.shuffle(pathlist)"
      ],
      "metadata": {
        "id": "DfprwAL7_gDz"
      },
      "id": "DfprwAL7_gDz",
      "execution_count": 4,
      "outputs": []
    },
    {
      "cell_type": "code",
      "source": [
        "dsrate = 1.0\n",
        "nb_tr = int(len(pathlist) * 0.8 * dsrate)\n",
        "nb_va = int(len(pathlist) * 0.2)\n",
        "tr_pathlist = pathlist[:nb_tr]\n",
        "va_pathlist = pathlist[nb_tr : nb_tr + nb_va]\n",
        "\n",
        "steps_per_epoch = math.ceil(nb_tr / BATCH_SIZE)\n",
        "va_steps = math.ceil(nb_va / BATCH_SIZE)\n",
        "\n",
        "ds_root = pathlib.Path(datadir)\n",
        "tr_sat_pathlist = sorted([str(ds_root / \"sat\" / path) for path in tr_pathlist])\n",
        "tr_map_pathlist = sorted([str(ds_root / \"map\" / path) for path in tr_pathlist])"
      ],
      "metadata": {
        "id": "KF0zHiIYAkks"
      },
      "id": "KF0zHiIYAkks",
      "execution_count": 5,
      "outputs": []
    },
    {
      "cell_type": "code",
      "source": [
        "train_ds = train.mkds(\n",
        "    tr_sat_pathlist, \n",
        "    tr_map_pathlist, \n",
        "    batch_size=BATCH_SIZE, \n",
        "    aug=True,\n",
        "    zoom=True,\n",
        "    flip=True,\n",
        "    rotate=True,\n",
        "    cutmix=True,\n",
        "    nbmix=4,\n",
        ")"
      ],
      "metadata": {
        "id": "bMqvZaoeBVmw"
      },
      "id": "bMqvZaoeBVmw",
      "execution_count": 6,
      "outputs": []
    },
    {
      "cell_type": "code",
      "source": [
        "va_sat_pathlist = sorted([str(ds_root / \"sat\" / path) for path in va_pathlist])\n",
        "va_map_pathlist = sorted([str(ds_root / \"map\" / path) for path in va_pathlist])\n",
        "valid_ds = train.mkds(va_sat_pathlist, va_map_pathlist, batch_size=BATCH_SIZE, test=True)"
      ],
      "metadata": {
        "id": "WPaQ7aVoGLRw"
      },
      "id": "WPaQ7aVoGLRw",
      "execution_count": 7,
      "outputs": []
    },
    {
      "cell_type": "code",
      "source": [
        "loss = losses.DICELoss(\"DICE\")\n",
        "model = train.compile_model(loss=loss)"
      ],
      "metadata": {
        "id": "NuEZcRS9Gf3T"
      },
      "id": "NuEZcRS9Gf3T",
      "execution_count": 8,
      "outputs": []
    },
    {
      "cell_type": "code",
      "source": [
        "model_history = model.fit(\n",
        "     train_ds,\n",
        "     epochs=20,\n",
        "     validation_data=valid_ds,\n",
        "     steps_per_epoch=steps_per_epoch,\n",
        "     validation_steps=va_steps,\n",
        ")"
      ],
      "metadata": {
        "id": "-_XnZ_fcG1P-",
        "outputId": "85f1b993-20e6-4224-fdb9-91db3cdf0cc6",
        "colab": {
          "base_uri": "https://localhost:8080/"
        }
      },
      "id": "-_XnZ_fcG1P-",
      "execution_count": null,
      "outputs": [
        {
          "output_type": "stream",
          "name": "stdout",
          "text": [
            "Epoch 1/20\n",
            "  1/108 [..............................] - ETA: 29:04 - loss: 0.9002 - mean_io_u: 0.4995"
          ]
        }
      ]
    },
    {
      "cell_type": "code",
      "source": [
        ""
      ],
      "metadata": {
        "id": "YBM1IXvYG-G5"
      },
      "id": "YBM1IXvYG-G5",
      "execution_count": null,
      "outputs": []
    }
  ],
  "metadata": {
    "interpreter": {
      "hash": "6f30c1aedcc158e6e85aa10894a7cc9894d5dc80bbbec0a0c9208a77c21f685c"
    },
    "kernelspec": {
      "display_name": "Python 3",
      "language": "python",
      "name": "python3"
    },
    "language_info": {
      "codemirror_mode": {
        "name": "ipython",
        "version": 3
      },
      "file_extension": ".py",
      "mimetype": "text/x-python",
      "name": "python",
      "nbconvert_exporter": "python",
      "pygments_lexer": "ipython3",
      "version": "3.6.9"
    },
    "colab": {
      "name": "train.ipynb",
      "provenance": [],
      "machine_shape": "hm",
      "include_colab_link": true
    }
  },
  "nbformat": 4,
  "nbformat_minor": 5
}