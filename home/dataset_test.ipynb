{
 "cells": [
  {
   "cell_type": "code",
   "execution_count": 1,
   "metadata": {},
   "outputs": [],
   "source": [
    "%load_ext autoreload\n",
    "\n",
    "import pathlib"
   ]
  },
  {
   "cell_type": "code",
   "execution_count": 2,
   "metadata": {},
   "outputs": [],
   "source": [
    "%autoreload 1\n",
    "from dataset_utils import mk_dataset"
   ]
  },
  {
   "cell_type": "code",
   "execution_count": 3,
   "metadata": {},
   "outputs": [
    {
     "name": "stdout",
     "output_type": "stream",
     "text": [
      "Metal device set to: Apple M1\n",
      "\n",
      "systemMemory: 16.00 GB\n",
      "maxCacheSize: 5.33 GB\n",
      "\n"
     ]
    },
    {
     "name": "stderr",
     "output_type": "stream",
     "text": [
      "2021-12-28 23:41:15.817228: I tensorflow/core/common_runtime/pluggable_device/pluggable_device_factory.cc:305] Could not identify NUMA node of platform GPU ID 0, defaulting to 0. Your kernel may not have been built with NUMA support.\n",
      "2021-12-28 23:41:15.817304: I tensorflow/core/common_runtime/pluggable_device/pluggable_device_factory.cc:271] Created TensorFlow device (/job:localhost/replica:0/task:0/device:GPU:0 with 0 MB memory) -> physical PluggableDevice (device: 0, name: METAL, pci bus id: <undefined>)\n"
     ]
    }
   ],
   "source": [
    "def gends(ds_root, suffix, batch_size):\n",
    "    ds_root = pathlib.Path(ds_root)\n",
    "    pathlist = ds_root.glob(f\"map/*.{suffix}\")\n",
    "    pathlist = sorted([path.name for path in pathlist])\n",
    "    sat_pathlist = sorted([str(ds_root / \"sat\" / path) for path in pathlist])\n",
    "    map_pathlist = sorted([str(ds_root / \"map\" / path) for path in pathlist])\n",
    "    test_ds = mk_dataset.mkds(sat_pathlist, map_pathlist, batch_size=batch_size, test=True)\n",
    "    return test_ds\n",
    "\n",
    "\n",
    "\n",
    "ds_root = \"../../DataSets/mass_roads256/test/\"\n",
    "suffix = \"png\"\n",
    "test_ds = gends(ds_root, suffix, 32)"
   ]
  },
  {
   "cell_type": "code",
   "execution_count": 4,
   "metadata": {},
   "outputs": [
    {
     "name": "stderr",
     "output_type": "stream",
     "text": [
      "2021-12-28 23:41:15.904074: W tensorflow/core/platform/profile_utils/cpu_utils.cc:128] Failed to get CPU frequency: 0 Hz\n"
     ]
    }
   ],
   "source": [
    "inp, tar = next(iter(test_ds))\n"
   ]
  },
  {
   "cell_type": "code",
   "execution_count": 5,
   "metadata": {},
   "outputs": [],
   "source": [
    "from model import losses\n",
    "diceloss = losses.DICELoss()"
   ]
  },
  {
   "cell_type": "code",
   "execution_count": 6,
   "metadata": {},
   "outputs": [
    {
     "data": {
      "text/plain": [
       "<tf.Tensor: shape=(), dtype=float32, numpy=0.2549591>"
      ]
     },
     "execution_count": 6,
     "metadata": {},
     "output_type": "execute_result"
    }
   ],
   "source": [
    "diceloss(tar, tar)"
   ]
  },
  {
   "cell_type": "code",
   "execution_count": 11,
   "metadata": {},
   "outputs": [],
   "source": [
    "import tensorflow as tf\n",
    "import tensorflow.keras as keras\n",
    "from tensorflow.keras import layers\n",
    "from tensorflow.keras.layers.experimental import preprocessing\n",
    "from typing import Optional\n",
    "\n",
    "class Augment(layers.Layer):\n",
    "    def __init__(\n",
    "        self,\n",
    "        zoom_rate: Optional[float]=None,\n",
    "        flip_mode: Optional[str]=None,\n",
    "        rotate_rate: Optional[float]=None,\n",
    "        trans_rate: Optional[float]=None,\n",
    "    ):\n",
    "        super().__init__()\n",
    "\n",
    "        seed = 99\n",
    "        interpolation = \"nearest\"\n",
    "\n",
    "        self.inputs_augment = keras.models.Sequential(name='inputs_augment')\n",
    "        self.labels_augment = keras.models.Sequential(name='labels_augment')\n",
    "        # fmt:off\n",
    "        if zoom_rate:\n",
    "            self.inputs_augment.add(preprocessing.RandomZoom(zoom_rate, interpolation='bilinear', seed=seed))\n",
    "            self.labels_augment.add(preprocessing.RandomZoom(zoom_rate, interpolation='bilinear', seed=seed))\n",
    "\n",
    "        if flip_mode:\n",
    "            self.inputs_augment.add(preprocessing.RandomFlip(flip_mode, seed=seed))\n",
    "            self.labels_augment.add(preprocessing.RandomFlip(flip_mode, seed=seed))\n",
    "\n",
    "        if rotate_rate:\n",
    "            self.inputs_augment.add(preprocessing.RandomRotation(rotate_rate,  interpolation=interpolation, seed=seed))\n",
    "            self.labels_augment.add(preprocessing.RandomRotation(rotate_rate,  interpolation=interpolation, seed=seed))\n",
    "\n",
    "        if trans_rate:\n",
    "            self.inputs_augment.add(preprocessing.RandomTranslation(trans_rate, trans_rate, interpolation=interpolation, seed=seed))\n",
    "            self.labels_augment.add(preprocessing.RandomTranslation(trans_rate, trans_rate, interpolation=interpolation, seed=seed))\n",
    "       # fmt:on\n",
    "\n",
    "    def call(self, inputs, labels):\n",
    "        with tf.device(\"/cpu:0\"):\n",
    "            inputs = self.inputs_augment(inputs)\n",
    "            labels = self.labels_augment(labels)\n",
    "\n",
    "        return inputs, labels\n"
   ]
  },
  {
   "cell_type": "code",
   "execution_count": 12,
   "metadata": {},
   "outputs": [],
   "source": [
    "augment = Augment(\n",
    "    flip_mode=\"horizontal_and_vertical\",\n",
    "    zoom_rate=0.2,\n",
    "    rotate_rate=0.2,\n",
    "    trans_rate=0.2,\n",
    ")\n",
    "\n",
    "\n",
    "ds_root = pathlib.Path(\"../../DataSets/mass_roads256/test\")\n",
    "suffix = \"png\"\n",
    "batch_size = 32\n",
    "dsrate = 1.0\n",
    "\n",
    "nbmix = 3\n",
    "\n",
    "(\n",
    "    ((tr_sat_pathlist, tr_map_pathlist), tr_steps),\n",
    "    ((va_sat_pathlist, va_map_pathlist), va_steps),\n",
    ") = mk_dataset.mk_pathlist(\n",
    "    ds_root,\n",
    "    suffix,\n",
    "    batch_size=batch_size,\n",
    "    dsrate=dsrate,\n",
    ")\n",
    "\n",
    "train_ds = mk_dataset.mkds(\n",
    "    tr_sat_pathlist,\n",
    "    tr_map_pathlist,\n",
    "    augment=augment,\n",
    "    batch_size=batch_size,\n",
    ")\n"
   ]
  },
  {
   "cell_type": "code",
   "execution_count": 14,
   "metadata": {},
   "outputs": [
    {
     "name": "stderr",
     "output_type": "stream",
     "text": [
      "2021-12-29 00:02:00.362760: W tensorflow/core/kernels/data/cache_dataset_ops.cc:768] The calling iterator did not fully read the dataset being cached. In order to avoid unexpected truncation of the dataset, the partially cached contents of the dataset  will be discarded. This can happen if you have an input pipeline similar to `dataset.cache().take(k).repeat()`. You should use `dataset.take(k).cache().repeat()` instead.\n"
     ]
    },
    {
     "data": {
      "text/plain": [
       "<tf.Tensor: shape=(), dtype=float32, numpy=0.0>"
      ]
     },
     "execution_count": 14,
     "metadata": {},
     "output_type": "execute_result"
    }
   ],
   "source": [
    "inp, tar = next(iter(train_ds))\n",
    "\n",
    "diceloss(tar, tar)"
   ]
  },
  {
   "cell_type": "code",
   "execution_count": 21,
   "metadata": {},
   "outputs": [
    {
     "data": {
      "image/png": "[encoded data removed]",
      "text/plain": [
       "<Figure size 432x288 with 2 Axes>"
      ]
     },
     "metadata": {
      "needs_background": "light"
     },
     "output_type": "display_data"
    }
   ],
   "source": [
    "import matplotlib.pyplot as plt\n",
    "\n",
    "plt.imshow(tar[1], cmap=\"gray\")\n",
    "plt.colorbar()\n",
    "plt.show()\n"
   ]
  }
 ],
 "metadata": {
  "interpreter": {
   "hash": "10c0896c0a6005b65426c8744684cff745857a6f8f225d876aca5995a0e5eac1"
  },
  "kernelspec": {
   "display_name": "Python 3.9.7 64-bit ('tf3.9': conda)",
   "language": "python",
   "name": "python3"
  },
  "language_info": {
   "codemirror_mode": {
    "name": "ipython",
    "version": 3
   },
   "file_extension": ".py",
   "mimetype": "text/x-python",
   "name": "python",
   "nbconvert_exporter": "python",
   "pygments_lexer": "ipython3",
   "version": "3.9.7"
  },
  "orig_nbformat": 4
 },
 "nbformat": 4,
 "nbformat_minor": 2
}
