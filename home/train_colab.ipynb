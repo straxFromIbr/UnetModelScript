{
 "cells": [
  {
   "cell_type": "code",
   "execution_count": null,
   "id": "ecc83d2b",
   "metadata": {},
   "outputs": [],
   "source": [
    "# GoogleDrive をマウント\n",
    "\n",
    "from google.colab import drive\n",
    "drive.mount(\"/gdrive\")\n",
    "# データ解凍\n",
    "!unzip /gdrive/MyDrive/卒研/datasets_21110115.zip >&/dev/null\n",
    "! git clone https://github.com/straxFromIbr/UnetModelScript.git\n",
    "% cd UnetModelScript/home"
   ]
  },
  {
   "cell_type": "code",
   "execution_count": null,
   "id": "3e9899e3-c06b-4ec4-a6e9-e5ba034efe9b",
   "metadata": {},
   "outputs": [],
   "source": [
    "import tensorflow.keras as keras\n",
    "\n",
    "import config\n",
    "from model import unet, losses, metrics\n",
    "from utils import callbacks\n",
    "from dataset_utils import mk_dataset\n"
   ]
  },
  {
   "cell_type": "code",
   "execution_count": null,
   "id": "9c663fd2-1174-4fe9-a6c5-3439af5d130f",
   "metadata": {},
   "outputs": [],
   "source": [
    "# Define model\n",
    "def compile_model(loss):\n",
    "    model = unet.big_unet_model(\n",
    "        input_shape=config.INPUT_SIZE,\n",
    "        output_channels=config.OUT_CH,\n",
    "    )\n",
    "    # Compile the model\n",
    "    optimizer = keras.optimizers.Adam()\n",
    "    metric_list = [\"accuracy\", metrics.iou_coef]\n",
    "    model.compile(optimizer=optimizer, loss=loss, metrics=metric_list)\n",
    "    return model\n"
   ]
  },
  {
   "cell_type": "code",
   "execution_count": null,
   "id": "f96e6d6f",
   "metadata": {},
   "outputs": [],
   "source": [
    "# Define Callbacks\n",
    "def get_callbacks(filename):\n",
    "    tboard_cb = callbacks.get_tboard_callback(str(config.LOG_PATH / filename))\n",
    "    checkpoint_cb = callbacks.get_checkpoint_callback(\n",
    "        str(config.CHECKPOINT_PATH / filename / filename)\n",
    "    )\n",
    "    callback_list = [tboard_cb, checkpoint_cb]\n",
    "    return callback_list\n"
   ]
  },
  {
   "cell_type": "code",
   "execution_count": null,
   "id": "4b13a802",
   "metadata": {},
   "outputs": [],
   "source": [
    "def train(model: keras.Model, train_ds, valid_ds, NB_EPOCHS):\n",
    "    filename = model.loss.name\n",
    "    model_history = model.fit(\n",
    "        train_ds,\n",
    "        epochs=NB_EPOCHS,\n",
    "        validation_data=valid_ds,\n",
    "        steps_per_epoch=config.STEPS_PER_EPOCH,\n",
    "        validation_steps=10,\n",
    "        callbacks=get_callbacks(filename),\n",
    "    )\n",
    "    model.save(str(config.MODEL_SAVE_PATH / filename))\n",
    "    return model_history\n"
   ]
  },
  {
   "cell_type": "code",
   "execution_count": null,
   "id": "5aa6e3bf",
   "metadata": {},
   "outputs": [],
   "source": [
    "basepath = pathlib.Path(\"/content/datasets_21110115\")\n",
    "TR_SAT_PATH = basepath / \"sat\"\n",
    "TR_MAP_PATH = basepath / \"map\"\n",
    "VA_SAT_PATH = basepath / \"valid/sat\"\n",
    "VA_MAP_PATH = basepath / \"valid/map\"\n",
    "\n",
    "# Get Datasets\n",
    "train_ds = mk_dataset.mk_base_dataset(TR_SAT_PATH, TR_MAP_PATH)\n",
    "train_ds = mk_dataset.augument_ds(train_ds)\n",
    "train_ds = mk_dataset.post_process_ds(train_ds)\n",
    "\n",
    "valid_ds = mk_dataset.mk_base_dataset(VA_SAT_PATH, VA_MAP_PATH)\n",
    "valid_ds = mk_dataset.post_process_ds(valid_ds)\n"
   ]
  },
  {
   "cell_type": "code",
   "execution_count": null,
   "id": "2a29a68f",
   "metadata": {},
   "outputs": [],
   "source": [
    "%load_ext tensorboard\n",
    "\n",
    "loss = losses.TverskyLoss(name=\"Tversky\")\n",
    "model = compile_model(loss=loss)\n",
    "hist = train(\n",
    "    model=model,\n",
    "    train_ds=train_ds,\n",
    "    valid_ds=valid_ds,\n",
    "    NB_EPOCHS=10,\n",
    ")\n"
   ]
  },
  {
   "cell_type": "code",
   "execution_count": null,
   "id": "ef486ac8",
   "metadata": {},
   "outputs": [],
   "source": [
    "! tensorboard dev upload --logdir ./logs  \\\n",
    "    --name \"Train with Tversky on Colab\" \\\n",
    "    --description \"検証データにはCutMix未適用\" \\\n",
    "    --one_sho"
   ]
  }
 ],
 "metadata": {
  "interpreter": {
   "hash": "6f30c1aedcc158e6e85aa10894a7cc9894d5dc80bbbec0a0c9208a77c21f685c"
  },
  "kernelspec": {
   "display_name": "Python 3",
   "language": "python",
   "name": "python3"
  },
  "language_info": {
   "codemirror_mode": {
    "name": "ipython",
    "version": 3
   },
   "file_extension": ".py",
   "mimetype": "text/x-python",
   "name": "python",
   "nbconvert_exporter": "python",
   "pygments_lexer": "ipython3",
   "version": "3.8.12"
  }
 },
 "nbformat": 4,
 "nbformat_minor": 5
}
